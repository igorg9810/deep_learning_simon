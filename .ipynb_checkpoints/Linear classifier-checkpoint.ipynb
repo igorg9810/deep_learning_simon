{
 "cells": [
  {
   "cell_type": "markdown",
   "metadata": {},
   "source": [
    "# Задание 1.2 - Линейный классификатор (Linear classifier)\n",
    "\n",
    "В этом задании мы реализуем другую модель машинного обучения - линейный классификатор. Линейный классификатор подбирает для каждого класса веса, на которые нужно умножить значение каждого признака и потом сложить вместе.\n",
    "Тот класс, у которого эта сумма больше, и является предсказанием модели.\n",
    "\n",
    "В этом задании вы:\n",
    "- потренируетесь считать градиенты различных многомерных функций\n",
    "- реализуете подсчет градиентов через линейную модель и функцию потерь softmax\n",
    "- реализуете процесс тренировки линейного классификатора\n",
    "- подберете параметры тренировки на практике\n",
    "\n",
    "На всякий случай, еще раз ссылка на туториал по numpy:  \n",
    "http://cs231n.github.io/python-numpy-tutorial/"
   ]
  },
  {
   "cell_type": "code",
   "execution_count": 1,
   "metadata": {},
   "outputs": [],
   "source": [
    "import numpy as np\n",
    "import matplotlib.pyplot as plt\n",
    "\n",
    "%matplotlib inline\n",
    "\n",
    "%load_ext autoreload\n",
    "%autoreload 2"
   ]
  },
  {
   "cell_type": "code",
   "execution_count": 2,
   "metadata": {},
   "outputs": [],
   "source": [
    "from dataset import load_svhn, random_split_train_val\n",
    "from gradient_check import check_gradient\n",
    "from metrics import multiclass_accuracy \n",
    "import linear_classifer"
   ]
  },
  {
   "cell_type": "markdown",
   "metadata": {},
   "source": [
    "# Как всегда, первым делом загружаем данные\n",
    "\n",
    "Мы будем использовать все тот же SVHN."
   ]
  },
  {
   "cell_type": "code",
   "execution_count": 3,
   "metadata": {},
   "outputs": [],
   "source": [
    "def prepare_for_linear_classifier(train_X, test_X):\n",
    "    train_flat = train_X.reshape(train_X.shape[0], -1).astype(np.float) / 255.0\n",
    "    test_flat = test_X.reshape(test_X.shape[0], -1).astype(np.float) / 255.0\n",
    "    \n",
    "    # Subtract mean\n",
    "    mean_image = np.mean(train_flat, axis = 0)\n",
    "    train_flat -= mean_image\n",
    "    test_flat -= mean_image\n",
    "    \n",
    "    # Add another channel with ones as a bias term\n",
    "    train_flat_with_ones = np.hstack([train_flat, np.ones((train_X.shape[0], 1))])\n",
    "    test_flat_with_ones = np.hstack([test_flat, np.ones((test_X.shape[0], 1))])    \n",
    "    return train_flat_with_ones, test_flat_with_ones\n",
    "    \n",
    "train_X, train_y, test_X, test_y = load_svhn(\"data\", max_train=10000, max_test=1000)    \n",
    "train_X, test_X = prepare_for_linear_classifier(train_X, test_X)\n",
    "# Split train into train and val\n",
    "train_X, train_y, val_X, val_y = random_split_train_val(train_X, train_y, num_val = 1000)"
   ]
  },
  {
   "cell_type": "markdown",
   "metadata": {},
   "source": [
    "# Играемся с градиентами!\n",
    "\n",
    "В этом курсе мы будем писать много функций, которые вычисляют градиенты аналитическим методом.\n",
    "\n",
    "Необходимым инструментом во время реализации кода, вычисляющего градиенты, является функция его проверки. Эта функция вычисляет градиент численным методом и сверяет результат с градиентом, вычисленным аналитическим методом.\n",
    "\n",
    "Мы начнем с того, чтобы реализовать вычисление численного градиента (numeric gradient) в этой функции.\n",
    "Вычислите градиент с помощью численной производной для каждой координаты. Для вычисления производной используйте так называемую two-point formula (https://en.wikipedia.org/wiki/Numerical_differentiation):\n",
    "\n",
    "![image](https://wikimedia.org/api/rest_v1/media/math/render/svg/22fc2c0a66c63560a349604f8b6b39221566236d)\n"
   ]
  },
  {
   "cell_type": "code",
   "execution_count": 4,
   "metadata": {
    "scrolled": true
   },
   "outputs": [
    {
     "name": "stdout",
     "output_type": "stream",
     "text": [
      "Gradient check passed!\n",
      "Gradient check passed!\n",
      "Gradient check passed!\n"
     ]
    },
    {
     "data": {
      "text/plain": [
       "True"
      ]
     },
     "execution_count": 4,
     "metadata": {},
     "output_type": "execute_result"
    }
   ],
   "source": [
    "# TODO: Implement gradient check function\n",
    "def sqr(x):\n",
    "    return x*x, 2*x\n",
    "\n",
    "check_gradient(sqr, np.array([3.0]))\n",
    "\n",
    "def array_sum(x):\n",
    "    assert x.shape == (2,), x.shape\n",
    "    return np.sum(x), np.ones_like(x)\n",
    "\n",
    "check_gradient(array_sum, np.array([3.0, 2.0]))\n",
    "\n",
    "def array_2d_sum(x):\n",
    "    assert x.shape == (2,2)\n",
    "    return np.sum(x), np.ones_like(x)\n",
    "\n",
    "check_gradient(array_2d_sum, np.array([[3.0, 2.0], [1.0, 0.0]]))"
   ]
  },
  {
   "cell_type": "markdown",
   "metadata": {},
   "source": [
    "Теперь реализуем функцию softmax, которая получает на вход оценки для каждого класса и преобразует их в вероятности от 0 до 1:\n",
    "![image](https://wikimedia.org/api/rest_v1/media/math/render/svg/e348290cf48ddbb6e9a6ef4e39363568b67c09d3)\n",
    "\n",
    "**Важно:** Практический аспект вычисления этой функции заключается в том, что в ней учавствует вычисление экспоненты от потенциально очень больших чисел - это может привести к очень большим значениям в числителе и знаменателе за пределами диапазона float.\n",
    "\n",
    "К счастью, у этой проблемы есть простое решение -- перед вычислением softmax вычесть из всех оценок максимальное значение среди всех оценок:\n",
    "```\n",
    "predictions -= np.max(predictions)\n",
    "```\n",
    "(подробнее здесь - http://cs231n.github.io/linear-classify/#softmax, секция `Practical issues: Numeric stability`)"
   ]
  },
  {
   "cell_type": "code",
   "execution_count": 5,
   "metadata": {},
   "outputs": [],
   "source": [
    "# TODO Implement softmax and cross-entropy for single sample\n",
    "probs = linear_classifer.softmax(np.array([-10, 0, 10]))\n",
    "\n",
    "# Make sure it works for big numbers too!\n",
    "probs = linear_classifer.softmax(np.array([1000, 0, 0]))\n",
    "assert np.isclose(probs[0], 1.0)"
   ]
  },
  {
   "cell_type": "markdown",
   "metadata": {},
   "source": [
    "Кроме этого, мы реализуем cross-entropy loss, которую мы будем использовать как функцию ошибки (error function).\n",
    "В общем виде cross-entropy определена следующим образом:\n",
    "![image](https://wikimedia.org/api/rest_v1/media/math/render/svg/0cb6da032ab424eefdca0884cd4113fe578f4293)\n",
    "\n",
    "где x - все классы, p(x) - истинная вероятность принадлежности сэмпла классу x, а q(x) - вероятность принадлежности классу x, предсказанная моделью.  \n",
    "В нашем случае сэмпл принадлежит только одному классу, индекс которого передается функции. Для него p(x) равна 1, а для остальных классов - 0. \n",
    "\n",
    "Это позволяет реализовать функцию проще!"
   ]
  },
  {
   "cell_type": "code",
   "execution_count": 6,
   "metadata": {},
   "outputs": [
    {
     "data": {
      "text/plain": [
       "5.006760443547122"
      ]
     },
     "execution_count": 6,
     "metadata": {},
     "output_type": "execute_result"
    }
   ],
   "source": [
    "probs = linear_classifer.softmax(np.array([-5, 0, 5]))\n",
    "linear_classifer.cross_entropy_loss(probs, 1)"
   ]
  },
  {
   "cell_type": "markdown",
   "metadata": {},
   "source": [
    "После того как мы реализовали сами функции, мы можем реализовать градиент.\n",
    "\n",
    "Оказывается, что вычисление градиента становится гораздо проще, если объединить эти функции в одну, которая сначала вычисляет вероятности через softmax, а потом использует их для вычисления функции ошибки через cross-entropy loss.\n",
    "\n",
    "Эта функция `softmax_with_cross_entropy` будет возвращает и значение ошибки, и градиент по входным параметрам. Мы проверим корректность реализации с помощью `check_gradient`."
   ]
  },
  {
   "cell_type": "code",
   "execution_count": 7,
   "metadata": {},
   "outputs": [
    {
     "name": "stdout",
     "output_type": "stream",
     "text": [
      "Gradient check passed!\n"
     ]
    },
    {
     "data": {
      "text/plain": [
       "True"
      ]
     },
     "execution_count": 7,
     "metadata": {},
     "output_type": "execute_result"
    }
   ],
   "source": [
    "# TODO Implement combined function or softmax and cross entropy and produces gradient\n",
    "loss, grad = linear_classifer.softmax_with_cross_entropy(np.array([1, 0, 0]), 1)\n",
    "check_gradient(lambda x: linear_classifer.softmax_with_cross_entropy(x, 1), np.array([1, 0, 0], np.float))"
   ]
  },
  {
   "cell_type": "markdown",
   "metadata": {},
   "source": [
    "В качестве метода тренировки мы будем использовать стохастический градиентный спуск (stochastic gradient descent или SGD), который работает с батчами сэмплов. \n",
    "\n",
    "Поэтому все наши фукнции будут получать не один пример, а батч, то есть входом будет не вектор из `num_classes` оценок, а матрица размерности `batch_size, num_classes`. Индекс примера в батче всегда будет первым измерением.\n",
    "\n",
    "Следующий шаг - переписать наши функции так, чтобы они поддерживали батчи.\n",
    "\n",
    "Финальное значение функции ошибки должно остаться числом, и оно равно среднему значению ошибки среди всех примеров в батче."
   ]
  },
  {
   "cell_type": "code",
   "execution_count": 8,
   "metadata": {
    "scrolled": true
   },
   "outputs": [
    {
     "name": "stdout",
     "output_type": "stream",
     "text": [
      "Gradient check passed!\n",
      "Gradient check passed!\n"
     ]
    },
    {
     "data": {
      "text/plain": [
       "True"
      ]
     },
     "execution_count": 8,
     "metadata": {},
     "output_type": "execute_result"
    }
   ],
   "source": [
    "# TODO Extend combined function so it can receive a 2d array with batch of samples\n",
    "\n",
    "# Test batch_size = 1\n",
    "batch_size = 1\n",
    "predictions = np.zeros((batch_size, 3))\n",
    "target_index = np.ones(batch_size, np.int)\n",
    "check_gradient(lambda x: linear_classifer.softmax_with_cross_entropy(x, target_index), predictions)\n",
    "\n",
    "# Test batch_size = 3\n",
    "batch_size = 3\n",
    "predictions = np.zeros((batch_size, 3))\n",
    "target_index = np.ones(batch_size, np.int)\n",
    "check_gradient(lambda x: linear_classifer.softmax_with_cross_entropy(x, target_index), predictions)"
   ]
  },
  {
   "cell_type": "markdown",
   "metadata": {},
   "source": [
    "### Наконец, реализуем сам линейный классификатор!\n",
    "\n",
    "softmax и cross-entropy получают на вход оценки, которые выдает линейный классификатор.\n",
    "\n",
    "Он делает это очень просто: для каждого класса есть набор весов, на которые надо умножить пиксели картинки и сложить. Получившееся число и является оценкой класса, идущей на вход softmax.\n",
    "\n",
    "Таким образом, линейный классификатор можно представить как умножение вектора с пикселями на матрицу W размера `num_features, num_classes`. Такой подход легко расширяется на случай батча векторов с пикселями X размера `batch_size, num_features`:\n",
    "\n",
    "`predictions = X * W`, где `*` - матричное умножение.\n",
    "\n",
    "Реализуйте функцию подсчета линейного классификатора и градиентов по весам `linear_softmax` в файле `linear_classifer.py`"
   ]
  },
  {
   "cell_type": "code",
   "execution_count": 9,
   "metadata": {},
   "outputs": [
    {
     "name": "stdout",
     "output_type": "stream",
     "text": [
      "Gradient check passed!\n"
     ]
    },
    {
     "data": {
      "text/plain": [
       "True"
      ]
     },
     "execution_count": 9,
     "metadata": {},
     "output_type": "execute_result"
    }
   ],
   "source": [
    "# TODO Implement linear_softmax function that uses softmax with cross-entropy for linear classifier\n",
    "batch_size = 2\n",
    "num_classes = 2\n",
    "num_features = 3\n",
    "np.random.seed(42)\n",
    "W = np.random.randint(-1, 3, size=(num_features, num_classes)).astype(np.float)\n",
    "X = np.random.randint(-1, 3, size=(batch_size, num_features)).astype(np.float)\n",
    "target_index = np.ones(batch_size, dtype=np.int)\n",
    "\n",
    "loss, dW = linear_classifer.linear_softmax(X, W, target_index)\n",
    "check_gradient(lambda w: linear_classifer.linear_softmax(X, w, target_index), W)"
   ]
  },
  {
   "cell_type": "markdown",
   "metadata": {},
   "source": [
    "### И теперь регуляризация\n",
    "\n",
    "Мы будем использовать L2 regularization для весов как часть общей функции ошибки.\n",
    "\n",
    "Напомним, L2 regularization определяется как\n",
    "\n",
    "l2_reg_loss = regularization_strength * sum<sub>ij</sub> W[i, j]<sup>2</sup>\n",
    "\n",
    "Реализуйте функцию для его вычисления и вычисления соотвествующих градиентов."
   ]
  },
  {
   "cell_type": "code",
   "execution_count": 10,
   "metadata": {},
   "outputs": [
    {
     "name": "stdout",
     "output_type": "stream",
     "text": [
      "Gradient check passed!\n"
     ]
    },
    {
     "data": {
      "text/plain": [
       "True"
      ]
     },
     "execution_count": 10,
     "metadata": {},
     "output_type": "execute_result"
    }
   ],
   "source": [
    "# TODO Implement l2_regularization function that implements loss for L2 regularization\n",
    "linear_classifer.l2_regularization(W, 0.01)\n",
    "check_gradient(lambda w: linear_classifer.l2_regularization(w, 0.01), W)"
   ]
  },
  {
   "cell_type": "markdown",
   "metadata": {},
   "source": [
    "# Тренировка!"
   ]
  },
  {
   "cell_type": "markdown",
   "metadata": {},
   "source": [
    "Градиенты в порядке, реализуем процесс тренировки!"
   ]
  },
  {
   "cell_type": "code",
   "execution_count": 11,
   "metadata": {
    "scrolled": false
   },
   "outputs": [
    {
     "name": "stdout",
     "output_type": "stream",
     "text": [
      "Epoch 0, loss: 2.397700\n",
      "Epoch 1, loss: 2.330229\n",
      "Epoch 2, loss: 2.309570\n",
      "Epoch 3, loss: 2.304384\n",
      "Epoch 4, loss: 2.302307\n",
      "Epoch 5, loss: 2.303712\n",
      "Epoch 6, loss: 2.302957\n",
      "Epoch 7, loss: 2.301497\n",
      "Epoch 8, loss: 2.301362\n",
      "Epoch 9, loss: 2.301665\n"
     ]
    }
   ],
   "source": [
    "# TODO: Implement LinearSoftmaxClassifier.fit function\n",
    "classifier = linear_classifer.LinearSoftmaxClassifier()\n",
    "loss_history = classifier.fit(train_X, train_y, epochs=10, learning_rate=1e-3, batch_size=300, reg=1e1)"
   ]
  },
  {
   "cell_type": "code",
   "execution_count": 12,
   "metadata": {},
   "outputs": [
    {
     "data": {
      "text/plain": [
       "[<matplotlib.lines.Line2D at 0x22d002a70b8>]"
      ]
     },
     "execution_count": 12,
     "metadata": {},
     "output_type": "execute_result"
    },
    {
     "data": {
      "image/png": "[encoded data removed]",
      "text/plain": [
       "<Figure size 432x288 with 1 Axes>"
      ]
     },
     "metadata": {
      "needs_background": "light"
     },
     "output_type": "display_data"
    }
   ],
   "source": [
    "# let's look at the loss history!\n",
    "plt.plot(loss_history)"
   ]
  },
  {
   "cell_type": "code",
   "execution_count": 13,
   "metadata": {},
   "outputs": [
    {
     "name": "stdout",
     "output_type": "stream",
     "text": [
      "168\n",
      "Accuracy:  0.168\n",
      "Epoch 0, loss: 2.301195\n",
      "Epoch 1, loss: 2.302983\n",
      "Epoch 2, loss: 2.302892\n",
      "Epoch 3, loss: 2.300882\n",
      "Epoch 4, loss: 2.301163\n",
      "Epoch 5, loss: 2.302630\n",
      "Epoch 6, loss: 2.301978\n",
      "Epoch 7, loss: 2.302655\n",
      "Epoch 8, loss: 2.301433\n",
      "Epoch 9, loss: 2.302485\n",
      "Epoch 10, loss: 2.302128\n",
      "Epoch 11, loss: 2.302500\n",
      "Epoch 12, loss: 2.301809\n",
      "Epoch 13, loss: 2.301400\n",
      "Epoch 14, loss: 2.301372\n",
      "Epoch 15, loss: 2.302499\n",
      "Epoch 16, loss: 2.302529\n",
      "Epoch 17, loss: 2.302479\n",
      "Epoch 18, loss: 2.301585\n",
      "Epoch 19, loss: 2.302242\n",
      "Epoch 20, loss: 2.302077\n",
      "Epoch 21, loss: 2.301897\n",
      "Epoch 22, loss: 2.303331\n",
      "Epoch 23, loss: 2.302515\n",
      "Epoch 24, loss: 2.301977\n",
      "Epoch 25, loss: 2.303839\n",
      "Epoch 26, loss: 2.302430\n",
      "Epoch 27, loss: 2.301066\n",
      "Epoch 28, loss: 2.301539\n",
      "Epoch 29, loss: 2.301895\n",
      "Epoch 30, loss: 2.302545\n",
      "Epoch 31, loss: 2.301418\n",
      "Epoch 32, loss: 2.303516\n",
      "Epoch 33, loss: 2.301980\n",
      "Epoch 34, loss: 2.302575\n",
      "Epoch 35, loss: 2.302791\n",
      "Epoch 36, loss: 2.303289\n",
      "Epoch 37, loss: 2.302551\n",
      "Epoch 38, loss: 2.302250\n",
      "Epoch 39, loss: 2.301781\n",
      "Epoch 40, loss: 2.302212\n",
      "Epoch 41, loss: 2.302253\n",
      "Epoch 42, loss: 2.302482\n",
      "Epoch 43, loss: 2.300726\n",
      "Epoch 44, loss: 2.301496\n",
      "Epoch 45, loss: 2.301698\n",
      "Epoch 46, loss: 2.302533\n",
      "Epoch 47, loss: 2.301741\n",
      "Epoch 48, loss: 2.301935\n",
      "Epoch 49, loss: 2.301882\n",
      "Epoch 50, loss: 2.302202\n",
      "Epoch 51, loss: 2.302313\n",
      "Epoch 52, loss: 2.300656\n",
      "Epoch 53, loss: 2.302878\n",
      "Epoch 54, loss: 2.302597\n",
      "Epoch 55, loss: 2.301412\n",
      "Epoch 56, loss: 2.301344\n",
      "Epoch 57, loss: 2.303350\n",
      "Epoch 58, loss: 2.302721\n",
      "Epoch 59, loss: 2.301129\n",
      "Epoch 60, loss: 2.301759\n",
      "Epoch 61, loss: 2.303405\n",
      "Epoch 62, loss: 2.301942\n",
      "Epoch 63, loss: 2.301519\n",
      "Epoch 64, loss: 2.302771\n",
      "Epoch 65, loss: 2.303316\n",
      "Epoch 66, loss: 2.302146\n",
      "Epoch 67, loss: 2.302371\n",
      "Epoch 68, loss: 2.302384\n",
      "Epoch 69, loss: 2.300798\n",
      "Epoch 70, loss: 2.301008\n",
      "Epoch 71, loss: 2.302176\n",
      "Epoch 72, loss: 2.302142\n",
      "Epoch 73, loss: 2.300954\n",
      "Epoch 74, loss: 2.302966\n",
      "Epoch 75, loss: 2.303347\n",
      "Epoch 76, loss: 2.301658\n",
      "Epoch 77, loss: 2.302676\n",
      "Epoch 78, loss: 2.300945\n",
      "Epoch 79, loss: 2.302037\n",
      "Epoch 80, loss: 2.301430\n",
      "Epoch 81, loss: 2.302669\n",
      "Epoch 82, loss: 2.303030\n",
      "Epoch 83, loss: 2.301467\n",
      "Epoch 84, loss: 2.302517\n",
      "Epoch 85, loss: 2.300431\n",
      "Epoch 86, loss: 2.301138\n",
      "Epoch 87, loss: 2.303106\n",
      "Epoch 88, loss: 2.301219\n",
      "Epoch 89, loss: 2.302119\n",
      "Epoch 90, loss: 2.302018\n",
      "Epoch 91, loss: 2.301710\n",
      "Epoch 92, loss: 2.302943\n",
      "Epoch 93, loss: 2.301758\n",
      "Epoch 94, loss: 2.301957\n",
      "Epoch 95, loss: 2.303043\n",
      "Epoch 96, loss: 2.300871\n",
      "Epoch 97, loss: 2.303826\n",
      "Epoch 98, loss: 2.300950\n",
      "Epoch 99, loss: 2.302721\n",
      "165\n",
      "Accuracy after training for 100 epochs:  0.165\n"
     ]
    }
   ],
   "source": [
    "# Let's check how it performs on validation set\n",
    "pred = classifier.predict(val_X)\n",
    "accuracy = multiclass_accuracy(pred, val_y)\n",
    "print(\"Accuracy: \", accuracy)\n",
    "\n",
    "# Now, let's train more and see if it performs better\n",
    "classifier.fit(train_X, train_y, epochs=100, learning_rate=1e-3, batch_size=300, reg=1e1)\n",
    "pred = classifier.predict(val_X)\n",
    "accuracy = multiclass_accuracy(pred, val_y)\n",
    "print(\"Accuracy after training for 100 epochs: \", accuracy)"
   ]
  },
  {
   "cell_type": "markdown",
   "metadata": {},
   "source": [
    "### Как и раньше, используем кросс-валидацию для подбора гиперпараметтов.\n",
    "\n",
    "В этот раз, чтобы тренировка занимала разумное время, мы будем использовать только одно разделение на тренировочные (training) и проверочные (validation) данные.\n",
    "\n",
    "Теперь нам нужно подобрать не один, а два гиперпараметра! Не ограничивайте себя изначальными значениями в коде.  \n",
    "Добейтесь точности более чем **20%** на проверочных данных (validation data)."
   ]
  },
  {
   "cell_type": "code",
   "execution_count": 17,
   "metadata": {},
   "outputs": [
    {
     "name": "stdout",
     "output_type": "stream",
     "text": [
      "Epoch 0, loss: 2.246429\n",
      "Epoch 1, loss: 2.246735\n",
      "Epoch 2, loss: 2.217902\n",
      "Epoch 3, loss: 2.216624\n",
      "Epoch 4, loss: 2.193941\n",
      "Epoch 5, loss: 2.214115\n",
      "Epoch 6, loss: 2.150125\n",
      "Epoch 7, loss: 2.248928\n",
      "Epoch 8, loss: 2.156832\n",
      "Epoch 9, loss: 2.154287\n",
      "423\n",
      "Epoch 0, loss: 2.190338\n",
      "Epoch 1, loss: 2.170820\n",
      "Epoch 2, loss: 2.175602\n",
      "Epoch 3, loss: 2.120666\n",
      "Epoch 4, loss: 2.127056\n",
      "Epoch 5, loss: 2.193112\n",
      "Epoch 6, loss: 2.102113\n",
      "Epoch 7, loss: 2.178507\n",
      "Epoch 8, loss: 2.123000\n",
      "Epoch 9, loss: 2.077844\n",
      "478\n",
      "Epoch 0, loss: 2.089464\n",
      "Epoch 1, loss: 2.145045\n",
      "Epoch 2, loss: 2.102114\n",
      "Epoch 3, loss: 2.152927\n",
      "Epoch 4, loss: 2.155283\n",
      "Epoch 5, loss: 2.172893\n",
      "Epoch 6, loss: 2.154241\n",
      "Epoch 7, loss: 2.101455\n",
      "Epoch 8, loss: 2.126716\n",
      "Epoch 9, loss: 2.065843\n",
      "464\n",
      "Epoch 0, loss: 2.129493\n",
      "Epoch 1, loss: 2.180672\n",
      "Epoch 2, loss: 2.155690\n",
      "Epoch 3, loss: 2.091792\n",
      "Epoch 4, loss: 2.146448\n",
      "Epoch 5, loss: 2.101337\n",
      "Epoch 6, loss: 2.133480\n",
      "Epoch 7, loss: 2.001433\n",
      "Epoch 8, loss: 2.088516\n",
      "Epoch 9, loss: 2.210500\n",
      "430\n",
      "Epoch 0, loss: 2.132462\n",
      "Epoch 1, loss: 2.121817\n",
      "Epoch 2, loss: 2.143450\n",
      "Epoch 3, loss: 2.077996\n",
      "Epoch 4, loss: 2.090285\n",
      "Epoch 5, loss: 2.139860\n",
      "Epoch 6, loss: 2.073272\n",
      "Epoch 7, loss: 2.104086\n",
      "Epoch 8, loss: 2.043306\n",
      "Epoch 9, loss: 2.074614\n",
      "498\n",
      "Linear classifier with l = 1.000000e-01 and r = 1.000000e-04\n",
      "Accuracy: 0.25\n",
      "Epoch 0, loss: 2.277579\n",
      "Epoch 1, loss: 2.254499\n",
      "Epoch 2, loss: 2.220919\n",
      "Epoch 3, loss: 2.207949\n",
      "Epoch 4, loss: 2.195764\n",
      "Epoch 5, loss: 2.183032\n",
      "Epoch 6, loss: 2.145452\n",
      "Epoch 7, loss: 2.182581\n",
      "Epoch 8, loss: 2.132552\n",
      "Epoch 9, loss: 2.148073\n",
      "421\n",
      "Epoch 0, loss: 2.153559\n",
      "Epoch 1, loss: 2.120488\n",
      "Epoch 2, loss: 2.211029\n",
      "Epoch 3, loss: 2.141417\n",
      "Epoch 4, loss: 2.127117\n",
      "Epoch 5, loss: 2.099039\n",
      "Epoch 6, loss: 2.145455\n",
      "Epoch 7, loss: 2.156702\n",
      "Epoch 8, loss: 2.149870\n",
      "Epoch 9, loss: 2.207565\n",
      "470\n",
      "Epoch 0, loss: 2.164035\n",
      "Epoch 1, loss: 2.158612\n",
      "Epoch 2, loss: 2.124572\n",
      "Epoch 3, loss: 2.087849\n",
      "Epoch 4, loss: 2.168275\n",
      "Epoch 5, loss: 2.122668\n",
      "Epoch 6, loss: 2.103619\n",
      "Epoch 7, loss: 2.177754\n",
      "Epoch 8, loss: 2.111839\n",
      "Epoch 9, loss: 2.004816\n",
      "472\n",
      "Epoch 0, loss: 2.148144\n",
      "Epoch 1, loss: 2.082397\n",
      "Epoch 2, loss: 2.080644\n",
      "Epoch 3, loss: 2.133141\n",
      "Epoch 4, loss: 2.162823\n",
      "Epoch 5, loss: 2.101631\n",
      "Epoch 6, loss: 2.107907\n",
      "Epoch 7, loss: 2.042719\n",
      "Epoch 8, loss: 2.107719\n",
      "Epoch 9, loss: 2.114185\n",
      "498\n",
      "Epoch 0, loss: 2.145342\n",
      "Epoch 1, loss: 2.132124\n",
      "Epoch 2, loss: 2.128104\n",
      "Epoch 3, loss: 2.117162\n",
      "Epoch 4, loss: 2.128227\n",
      "Epoch 5, loss: 2.083338\n",
      "Epoch 6, loss: 2.134021\n",
      "Epoch 7, loss: 2.135514\n",
      "Epoch 8, loss: 2.105020\n",
      "Epoch 9, loss: 2.043215\n",
      "495\n",
      "Linear classifier with l = 1.000000e-01 and r = 1.000000e-05\n",
      "Accuracy: 0.26\n",
      "Epoch 0, loss: 2.292425\n",
      "Epoch 1, loss: 2.297515\n",
      "Epoch 2, loss: 2.289144\n",
      "Epoch 3, loss: 2.284424\n",
      "Epoch 4, loss: 2.279323\n",
      "Epoch 5, loss: 2.279800\n",
      "Epoch 6, loss: 2.264218\n",
      "Epoch 7, loss: 2.268134\n",
      "Epoch 8, loss: 2.254415\n",
      "Epoch 9, loss: 2.280302\n",
      "408\n",
      "Epoch 0, loss: 2.262850\n",
      "Epoch 1, loss: 2.240359\n",
      "Epoch 2, loss: 2.237291\n",
      "Epoch 3, loss: 2.237652\n",
      "Epoch 4, loss: 2.245195\n",
      "Epoch 5, loss: 2.239636\n",
      "Epoch 6, loss: 2.244647\n",
      "Epoch 7, loss: 2.218476\n",
      "Epoch 8, loss: 2.222511\n",
      "Epoch 9, loss: 2.223182\n",
      "435\n",
      "Epoch 0, loss: 2.225970\n",
      "Epoch 1, loss: 2.213750\n",
      "Epoch 2, loss: 2.206453\n",
      "Epoch 3, loss: 2.214970\n",
      "Epoch 4, loss: 2.203595\n",
      "Epoch 5, loss: 2.186195\n",
      "Epoch 6, loss: 2.187819\n",
      "Epoch 7, loss: 2.182658\n",
      "Epoch 8, loss: 2.199485\n",
      "Epoch 9, loss: 2.202737\n",
      "404\n",
      "Epoch 0, loss: 2.197651\n",
      "Epoch 1, loss: 2.201822\n",
      "Epoch 2, loss: 2.195696\n",
      "Epoch 3, loss: 2.214299\n",
      "Epoch 4, loss: 2.192281\n",
      "Epoch 5, loss: 2.187717\n",
      "Epoch 6, loss: 2.230472\n",
      "Epoch 7, loss: 2.222073\n",
      "Epoch 8, loss: 2.183758\n",
      "Epoch 9, loss: 2.216644\n",
      "412\n",
      "Epoch 0, loss: 2.175330\n",
      "Epoch 1, loss: 2.195257\n",
      "Epoch 2, loss: 2.162540\n",
      "Epoch 3, loss: 2.209382\n",
      "Epoch 4, loss: 2.196435\n",
      "Epoch 5, loss: 2.156751\n",
      "Epoch 6, loss: 2.204123\n",
      "Epoch 7, loss: 2.172798\n",
      "Epoch 8, loss: 2.149793\n",
      "Epoch 9, loss: 2.167678\n",
      "429\n",
      "Linear classifier with l = 1.000000e-02 and r = 1.000000e-04\n",
      "Accuracy: 0.23\n",
      "Epoch 0, loss: 2.295749\n",
      "Epoch 1, loss: 2.290269\n",
      "Epoch 2, loss: 2.287657\n",
      "Epoch 3, loss: 2.289931\n",
      "Epoch 4, loss: 2.267164\n",
      "Epoch 5, loss: 2.272052\n",
      "Epoch 6, loss: 2.276719\n",
      "Epoch 7, loss: 2.264538\n",
      "Epoch 8, loss: 2.264872\n",
      "Epoch 9, loss: 2.246906\n",
      "418\n",
      "Epoch 0, loss: 2.254651\n",
      "Epoch 1, loss: 2.253095\n",
      "Epoch 2, loss: 2.251850\n",
      "Epoch 3, loss: 2.223763\n",
      "Epoch 4, loss: 2.242868\n",
      "Epoch 5, loss: 2.254953\n",
      "Epoch 6, loss: 2.234879\n",
      "Epoch 7, loss: 2.237341\n",
      "Epoch 8, loss: 2.217799\n",
      "Epoch 9, loss: 2.226001\n",
      "429\n",
      "Epoch 0, loss: 2.234400\n",
      "Epoch 1, loss: 2.213711\n",
      "Epoch 2, loss: 2.169180\n",
      "Epoch 3, loss: 2.223141\n",
      "Epoch 4, loss: 2.193623\n",
      "Epoch 5, loss: 2.191253\n",
      "Epoch 6, loss: 2.232670\n",
      "Epoch 7, loss: 2.200969\n",
      "Epoch 8, loss: 2.210606\n",
      "Epoch 9, loss: 2.205312\n",
      "407\n",
      "Epoch 0, loss: 2.227821\n",
      "Epoch 1, loss: 2.187972\n",
      "Epoch 2, loss: 2.204622\n",
      "Epoch 3, loss: 2.210348\n",
      "Epoch 4, loss: 2.167082\n",
      "Epoch 5, loss: 2.219786\n",
      "Epoch 6, loss: 2.172117\n",
      "Epoch 7, loss: 2.207260\n",
      "Epoch 8, loss: 2.197651\n",
      "Epoch 9, loss: 2.180013\n",
      "412\n",
      "Epoch 0, loss: 2.170254\n",
      "Epoch 1, loss: 2.188097\n",
      "Epoch 2, loss: 2.179326\n",
      "Epoch 3, loss: 2.165247\n",
      "Epoch 4, loss: 2.167042\n",
      "Epoch 5, loss: 2.210424\n",
      "Epoch 6, loss: 2.178609\n",
      "Epoch 7, loss: 2.187727\n",
      "Epoch 8, loss: 2.164806\n",
      "Epoch 9, loss: 2.155866\n",
      "420\n",
      "Linear classifier with l = 1.000000e-02 and r = 1.000000e-05\n",
      "Accuracy: 0.23\n",
      "Epoch 0, loss: 2.302145\n",
      "Epoch 1, loss: 2.301095\n",
      "Epoch 2, loss: 2.300327\n",
      "Epoch 3, loss: 2.302123\n",
      "Epoch 4, loss: 2.299911\n",
      "Epoch 5, loss: 2.299220\n",
      "Epoch 6, loss: 2.297281\n",
      "Epoch 7, loss: 2.296173\n",
      "Epoch 8, loss: 2.299921\n",
      "Epoch 9, loss: 2.299531\n",
      "345\n",
      "Epoch 0, loss: 2.295405\n",
      "Epoch 1, loss: 2.298796\n",
      "Epoch 2, loss: 2.295276\n",
      "Epoch 3, loss: 2.292015\n",
      "Epoch 4, loss: 2.297267\n",
      "Epoch 5, loss: 2.289847\n",
      "Epoch 6, loss: 2.290027\n",
      "Epoch 7, loss: 2.290070\n",
      "Epoch 8, loss: 2.296596\n",
      "Epoch 9, loss: 2.283374\n",
      "378\n",
      "Epoch 0, loss: 2.292802\n",
      "Epoch 1, loss: 2.287454\n",
      "Epoch 2, loss: 2.289590\n",
      "Epoch 3, loss: 2.286314\n",
      "Epoch 4, loss: 2.287727\n",
      "Epoch 5, loss: 2.284999\n",
      "Epoch 6, loss: 2.281458\n",
      "Epoch 7, loss: 2.276572\n",
      "Epoch 8, loss: 2.280458\n",
      "Epoch 9, loss: 2.275117\n",
      "327\n",
      "Epoch 0, loss: 2.283945\n",
      "Epoch 1, loss: 2.282286\n",
      "Epoch 2, loss: 2.279132\n",
      "Epoch 3, loss: 2.283762\n",
      "Epoch 4, loss: 2.282822\n",
      "Epoch 5, loss: 2.282022\n",
      "Epoch 6, loss: 2.282717\n",
      "Epoch 7, loss: 2.272625\n",
      "Epoch 8, loss: 2.273459\n",
      "Epoch 9, loss: 2.276531\n",
      "370\n",
      "Epoch 0, loss: 2.281906\n",
      "Epoch 1, loss: 2.278987\n",
      "Epoch 2, loss: 2.270065\n",
      "Epoch 3, loss: 2.281010\n",
      "Epoch 4, loss: 2.277746\n",
      "Epoch 5, loss: 2.278264\n",
      "Epoch 6, loss: 2.276898\n",
      "Epoch 7, loss: 2.278894\n",
      "Epoch 8, loss: 2.271451\n",
      "Epoch 9, loss: 2.275778\n",
      "360\n",
      "Linear classifier with l = 1.000000e-03 and r = 1.000000e-04\n",
      "Accuracy: 0.20\n",
      "Epoch 0, loss: 2.301806\n",
      "Epoch 1, loss: 2.301331\n",
      "Epoch 2, loss: 2.299341\n",
      "Epoch 3, loss: 2.302709\n",
      "Epoch 4, loss: 2.300257\n",
      "Epoch 5, loss: 2.298384\n",
      "Epoch 6, loss: 2.296185\n",
      "Epoch 7, loss: 2.294012\n",
      "Epoch 8, loss: 2.297790\n",
      "Epoch 9, loss: 2.295560\n",
      "346\n",
      "Epoch 0, loss: 2.298525\n",
      "Epoch 1, loss: 2.293505\n",
      "Epoch 2, loss: 2.296145\n",
      "Epoch 3, loss: 2.295840\n",
      "Epoch 4, loss: 2.295171\n",
      "Epoch 5, loss: 2.292319\n",
      "Epoch 6, loss: 2.294241\n",
      "Epoch 7, loss: 2.294511\n",
      "Epoch 8, loss: 2.294713\n",
      "Epoch 9, loss: 2.287590\n",
      "376\n",
      "Epoch 0, loss: 2.288119\n",
      "Epoch 1, loss: 2.289770\n",
      "Epoch 2, loss: 2.289005\n",
      "Epoch 3, loss: 2.291231\n",
      "Epoch 4, loss: 2.283313\n",
      "Epoch 5, loss: 2.281073\n",
      "Epoch 6, loss: 2.291944\n",
      "Epoch 7, loss: 2.284832\n",
      "Epoch 8, loss: 2.282906\n",
      "Epoch 9, loss: 2.290463\n",
      "326\n",
      "Epoch 0, loss: 2.281641\n",
      "Epoch 1, loss: 2.286460\n",
      "Epoch 2, loss: 2.274802\n",
      "Epoch 3, loss: 2.277751\n",
      "Epoch 4, loss: 2.280097\n",
      "Epoch 5, loss: 2.282765\n",
      "Epoch 6, loss: 2.276410\n",
      "Epoch 7, loss: 2.283246\n",
      "Epoch 8, loss: 2.276654\n",
      "Epoch 9, loss: 2.279619\n",
      "363\n",
      "Epoch 0, loss: 2.283886\n",
      "Epoch 1, loss: 2.277355\n",
      "Epoch 2, loss: 2.269771\n",
      "Epoch 3, loss: 2.278019\n",
      "Epoch 4, loss: 2.285412\n",
      "Epoch 5, loss: 2.265278\n",
      "Epoch 6, loss: 2.269562\n",
      "Epoch 7, loss: 2.271046\n",
      "Epoch 8, loss: 2.274374\n",
      "Epoch 9, loss: 2.271635\n",
      "364\n",
      "Linear classifier with l = 1.000000e-03 and r = 1.000000e-05\n",
      "Accuracy: 0.20\n",
      "l, r = 0.001, 0.0001, accuracy = 0.197778\n",
      "l, r = 0.001, 1e-05, accuracy = 0.197222\n",
      "l, r = 0.01, 0.0001, accuracy = 0.232000\n",
      "l, r = 0.01, 1e-05, accuracy = 0.231778\n",
      "l, r = 0.1, 0.0001, accuracy = 0.254778\n",
      "l, r = 0.1, 1e-05, accuracy = 0.261778\n"
     ]
    }
   ],
   "source": [
    "from sklearn.model_selection import KFold\n",
    "\n",
    "num_epochs = 10\n",
    "batch_size = 300\n",
    "\n",
    "#learning_rates = [1e-3, 1e-4, 1e-5]\n",
    "#reg_strengths = [1e-4, 1e-5, 1e-6]\n",
    "learning_rates = [1e-1, 1e-2, 1e-3]\n",
    "reg_strengths = [1e-4, 1e-5]\n",
    "\n",
    "best_classifier = None\n",
    "best_val_accuracy = None\n",
    "\n",
    "# TODO use validation set to find the best hyperparameters\n",
    "# hint: for best results, you might need to try more values for learning rate and regularization strength \n",
    "# than provided initially\n",
    "\n",
    "# Find the best k using cross-validation based on accuracy\n",
    "num_folds = 5\n",
    "train_folds_X = []\n",
    "test_folds_X = []\n",
    "l_r_to_accuracy = {}\n",
    "\n",
    "# TODO: split the training data in 5 folds and store them in train_folds_X/train_folds_y\n",
    "\n",
    "kfold = KFold(num_folds, True, 1)\n",
    "\n",
    "for train, test in kfold.split(train_X):\n",
    "    train_folds_X.append(train)\n",
    "    test_folds_X.append(test)  \n",
    "\n",
    "for l in learning_rates:\n",
    "    for r in reg_strengths:\n",
    "        # TODO: perform cross-validation\n",
    "        # Go through every fold and use it for testing and all other folds for validation\n",
    "        # Perform training and produce accuracy metric on the validation dataset\n",
    "        # Average accuracy from all the folds and write it into k_to_accuracy\n",
    "        accuracy_all = []\n",
    "        classifier = linear_classifer.LinearSoftmaxClassifier()\n",
    "        for i, train in enumerate(train_folds_X):\n",
    "            loss_history = classifier.fit(train_X[train], train_y[train], epochs=num_epochs, learning_rate=l, batch_size=batch_size, reg=r)\n",
    "            pred = classifier.predict(train_X[test_folds_X[i]])\n",
    "            accuracy = multiclass_accuracy(pred, train_y[test_folds_X[i]])\n",
    "            accuracy_all.append(accuracy)\n",
    "\n",
    "        l_r_to_accuracy[str(l) + ', ' + str(r)] = np.average(accuracy_all)\n",
    "        print(\"Linear classifier with l = %e and r = %e\" % (l, r))\n",
    "        print(\"Accuracy: %4.2f\" % (l_r_to_accuracy[str(l) + ', ' + str(r)])) \n",
    "\n",
    "for lr in sorted(l_r_to_accuracy):\n",
    "    print('l, r = %s, accuracy = %f' % (lr, l_r_to_accuracy[lr]))"
   ]
  },
  {
   "cell_type": "code",
   "execution_count": 19,
   "metadata": {},
   "outputs": [
    {
     "name": "stdout",
     "output_type": "stream",
     "text": [
      "best validation accuracy achieved: 0.261778\n",
      "Epoch 0, loss: 2.274137\n",
      "Epoch 1, loss: 2.227391\n",
      "Epoch 2, loss: 2.222890\n",
      "Epoch 3, loss: 2.184017\n",
      "Epoch 4, loss: 2.200193\n",
      "Epoch 5, loss: 2.184209\n",
      "Epoch 6, loss: 2.212898\n",
      "Epoch 7, loss: 2.193103\n",
      "Epoch 8, loss: 2.132277\n",
      "Epoch 9, loss: 2.166200\n",
      "Epoch 10, loss: 2.155321\n",
      "Epoch 11, loss: 2.162807\n",
      "Epoch 12, loss: 2.185552\n",
      "Epoch 13, loss: 2.094302\n",
      "Epoch 14, loss: 2.199092\n",
      "Epoch 15, loss: 2.158398\n",
      "Epoch 16, loss: 2.128880\n",
      "Epoch 17, loss: 2.183676\n",
      "Epoch 18, loss: 2.127304\n",
      "Epoch 19, loss: 2.176254\n",
      "459\n",
      "0.255\n",
      "Epoch 0, loss: 2.192203\n",
      "Epoch 1, loss: 2.081053\n",
      "Epoch 2, loss: 2.166327\n",
      "Epoch 3, loss: 2.139908\n",
      "Epoch 4, loss: 2.079124\n",
      "Epoch 5, loss: 2.134937\n",
      "Epoch 6, loss: 2.100434\n",
      "Epoch 7, loss: 2.128247\n",
      "Epoch 8, loss: 2.095701\n",
      "Epoch 9, loss: 2.163525\n",
      "Epoch 10, loss: 2.145209\n",
      "Epoch 11, loss: 2.107482\n",
      "Epoch 12, loss: 2.110044\n",
      "Epoch 13, loss: 2.179399\n",
      "Epoch 14, loss: 2.133252\n",
      "Epoch 15, loss: 2.154112\n",
      "Epoch 16, loss: 2.092659\n",
      "Epoch 17, loss: 2.072041\n",
      "Epoch 18, loss: 2.121564\n",
      "Epoch 19, loss: 2.119128\n",
      "488\n",
      "0.27111111111111114\n",
      "Epoch 0, loss: 2.177066\n",
      "Epoch 1, loss: 2.104105\n",
      "Epoch 2, loss: 2.060089\n",
      "Epoch 3, loss: 2.114827\n",
      "Epoch 4, loss: 2.134130\n",
      "Epoch 5, loss: 2.038772\n",
      "Epoch 6, loss: 2.138518\n",
      "Epoch 7, loss: 2.114450\n",
      "Epoch 8, loss: 2.159460\n",
      "Epoch 9, loss: 2.191770\n",
      "Epoch 10, loss: 2.079264\n",
      "Epoch 11, loss: 2.137727\n",
      "Epoch 12, loss: 2.067162\n",
      "Epoch 13, loss: 2.096469\n",
      "Epoch 14, loss: 2.122022\n",
      "Epoch 15, loss: 2.124808\n",
      "Epoch 16, loss: 2.150811\n",
      "Epoch 17, loss: 2.021099\n",
      "Epoch 18, loss: 2.145341\n",
      "Epoch 19, loss: 2.040199\n",
      "479\n",
      "0.26611111111111113\n",
      "Epoch 0, loss: 2.186506\n",
      "Epoch 1, loss: 2.091420\n",
      "Epoch 2, loss: 2.079405\n",
      "Epoch 3, loss: 2.086173\n",
      "Epoch 4, loss: 2.136474\n",
      "Epoch 5, loss: 2.061327\n",
      "Epoch 6, loss: 2.069557\n",
      "Epoch 7, loss: 2.153858\n",
      "Epoch 8, loss: 2.036681\n",
      "Epoch 9, loss: 2.077248\n",
      "Epoch 10, loss: 2.104098\n",
      "Epoch 11, loss: 2.046261\n",
      "Epoch 12, loss: 2.049462\n",
      "Epoch 13, loss: 2.096165\n",
      "Epoch 14, loss: 2.062221\n",
      "Epoch 15, loss: 2.124336\n",
      "Epoch 16, loss: 2.023943\n",
      "Epoch 17, loss: 2.095673\n",
      "Epoch 18, loss: 2.136040\n",
      "Epoch 19, loss: 2.031074\n",
      "515\n",
      "0.2861111111111111\n",
      "Epoch 0, loss: 2.041654\n",
      "Epoch 1, loss: 2.017738\n",
      "Epoch 2, loss: 2.095065\n",
      "Epoch 3, loss: 2.073500\n",
      "Epoch 4, loss: 2.114935\n",
      "Epoch 5, loss: 2.019596\n",
      "Epoch 6, loss: 2.017150\n",
      "Epoch 7, loss: 2.063332\n",
      "Epoch 8, loss: 2.061102\n",
      "Epoch 9, loss: 2.127582\n",
      "Epoch 10, loss: 2.064960\n",
      "Epoch 11, loss: 2.079346\n",
      "Epoch 12, loss: 2.073223\n",
      "Epoch 13, loss: 2.060792\n",
      "Epoch 14, loss: 2.090731\n",
      "Epoch 15, loss: 2.132263\n",
      "Epoch 16, loss: 2.050354\n",
      "Epoch 17, loss: 2.138424\n",
      "Epoch 18, loss: 1.993317\n",
      "Epoch 19, loss: 2.054162\n",
      "521\n",
      "0.28944444444444445\n"
     ]
    }
   ],
   "source": [
    "best_val_accuracy = l_r_to_accuracy[str(1e-1) + ', ' + str(1e-5)]\n",
    "\n",
    "print('best validation accuracy achieved: %f' % best_val_accuracy)\n",
    "\n",
    "best_classifier = linear_classifer.LinearSoftmaxClassifier()\n",
    "\n",
    "for i, train in enumerate(train_folds_X):\n",
    "            loss_history = best_classifier.fit(train_X[train], train_y[train], epochs=20, learning_rate=1e-1, batch_size=batch_size, reg=1e-5)\n",
    "            pred = best_classifier.predict(train_X[test_folds_X[i]])\n",
    "            accuracy = multiclass_accuracy(pred, train_y[test_folds_X[i]])\n",
    "            print(accuracy)"
   ]
  },
  {
   "cell_type": "markdown",
   "metadata": {},
   "source": [
    "# Какой же точности мы добились на тестовых данных?"
   ]
  },
  {
   "cell_type": "code",
   "execution_count": 20,
   "metadata": {},
   "outputs": [
    {
     "name": "stdout",
     "output_type": "stream",
     "text": [
      "227\n",
      "Linear softmax classifier test set accuracy: 0.227000\n"
     ]
    }
   ],
   "source": [
    "test_pred = best_classifier.predict(test_X)\n",
    "test_accuracy = multiclass_accuracy(test_pred, test_y)\n",
    "print('Linear softmax classifier test set accuracy: %f' % (test_accuracy, ))"
   ]
  },
  {
   "cell_type": "code",
   "execution_count": null,
   "metadata": {},
   "outputs": [],
   "source": []
  }
 ],
 "metadata": {
  "kernelspec": {
   "display_name": "Python 3",
   "language": "python",
   "name": "python3"
  },
  "language_info": {
   "codemirror_mode": {
    "name": "ipython",
    "version": 3
   },
   "file_extension": ".py",
   "mimetype": "text/x-python",
   "name": "python",
   "nbconvert_exporter": "python",
   "pygments_lexer": "ipython3",
   "version": "3.7.1"
  }
 },
 "nbformat": 4,
 "nbformat_minor": 2
}
