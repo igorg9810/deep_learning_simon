{
 "cells": [
  {
   "cell_type": "markdown",
   "metadata": {},
   "source": [
    "# Задание 1.2 - Линейный классификатор (Linear classifier)\n",
    "\n",
    "В этом задании мы реализуем другую модель машинного обучения - линейный классификатор. Линейный классификатор подбирает для каждого класса веса, на которые нужно умножить значение каждого признака и потом сложить вместе.\n",
    "Тот класс, у которого эта сумма больше, и является предсказанием модели.\n",
    "\n",
    "В этом задании вы:\n",
    "- потренируетесь считать градиенты различных многомерных функций\n",
    "- реализуете подсчет градиентов через линейную модель и функцию потерь softmax\n",
    "- реализуете процесс тренировки линейного классификатора\n",
    "- подберете параметры тренировки на практике\n",
    "\n",
    "На всякий случай, еще раз ссылка на туториал по numpy:  \n",
    "http://cs231n.github.io/python-numpy-tutorial/"
   ]
  },
  {
   "cell_type": "code",
   "execution_count": 1,
   "metadata": {},
   "outputs": [],
   "source": [
    "import numpy as np\n",
    "import matplotlib.pyplot as plt\n",
    "\n",
    "%matplotlib inline\n",
    "\n",
    "%load_ext autoreload\n",
    "%autoreload 2"
   ]
  },
  {
   "cell_type": "code",
   "execution_count": 2,
   "metadata": {},
   "outputs": [],
   "source": [
    "from dataset import load_svhn, random_split_train_val\n",
    "from gradient_check import check_gradient\n",
    "from metrics import multiclass_accuracy \n",
    "import linear_classifer"
   ]
  },
  {
   "cell_type": "markdown",
   "metadata": {},
   "source": [
    "# Как всегда, первым делом загружаем данные\n",
    "\n",
    "Мы будем использовать все тот же SVHN."
   ]
  },
  {
   "cell_type": "code",
   "execution_count": 3,
   "metadata": {},
   "outputs": [],
   "source": [
    "def prepare_for_linear_classifier(train_X, test_X):\n",
    "    train_flat = train_X.reshape(train_X.shape[0], -1).astype(np.float) / 255.0\n",
    "    test_flat = test_X.reshape(test_X.shape[0], -1).astype(np.float) / 255.0\n",
    "    \n",
    "    # Subtract mean\n",
    "    mean_image = np.mean(train_flat, axis = 0)\n",
    "    train_flat -= mean_image\n",
    "    test_flat -= mean_image\n",
    "    \n",
    "    # Add another channel with ones as a bias term\n",
    "    train_flat_with_ones = np.hstack([train_flat, np.ones((train_X.shape[0], 1))])\n",
    "    test_flat_with_ones = np.hstack([test_flat, np.ones((test_X.shape[0], 1))])    \n",
    "    return train_flat_with_ones, test_flat_with_ones\n",
    "    \n",
    "train_X, train_y, test_X, test_y = load_svhn(\"data\", max_train=10000, max_test=1000)    \n",
    "train_X, test_X = prepare_for_linear_classifier(train_X, test_X)\n",
    "# Split train into train and val\n",
    "train_X, train_y, val_X, val_y = random_split_train_val(train_X, train_y, num_val = 1000)"
   ]
  },
  {
   "cell_type": "markdown",
   "metadata": {},
   "source": [
    "# Играемся с градиентами!\n",
    "\n",
    "В этом курсе мы будем писать много функций, которые вычисляют градиенты аналитическим методом.\n",
    "\n",
    "Необходимым инструментом во время реализации кода, вычисляющего градиенты, является функция его проверки. Эта функция вычисляет градиент численным методом и сверяет результат с градиентом, вычисленным аналитическим методом.\n",
    "\n",
    "Мы начнем с того, чтобы реализовать вычисление численного градиента (numeric gradient) в этой функции.\n",
    "Вычислите градиент с помощью численной производной для каждой координаты. Для вычисления производной используйте так называемую two-point formula (https://en.wikipedia.org/wiki/Numerical_differentiation):\n",
    "\n",
    "![image](https://wikimedia.org/api/rest_v1/media/math/render/svg/22fc2c0a66c63560a349604f8b6b39221566236d)\n"
   ]
  },
  {
   "cell_type": "code",
   "execution_count": 4,
   "metadata": {
    "scrolled": true
   },
   "outputs": [
    {
     "name": "stdout",
     "output_type": "stream",
     "text": [
      "Gradient check passed!\n",
      "Gradient check passed!\n",
      "Gradient check passed!\n"
     ]
    },
    {
     "data": {
      "text/plain": [
       "True"
      ]
     },
     "execution_count": 4,
     "metadata": {},
     "output_type": "execute_result"
    }
   ],
   "source": [
    "# TODO: Implement gradient check function\n",
    "def sqr(x):\n",
    "    return x*x, 2*x\n",
    "\n",
    "check_gradient(sqr, np.array([3.0]))\n",
    "\n",
    "def array_sum(x):\n",
    "    assert x.shape == (2,), x.shape\n",
    "    return np.sum(x), np.ones_like(x)\n",
    "\n",
    "check_gradient(array_sum, np.array([3.0, 2.0]))\n",
    "\n",
    "def array_2d_sum(x):\n",
    "    assert x.shape == (2,2)\n",
    "    return np.sum(x), np.ones_like(x)\n",
    "\n",
    "check_gradient(array_2d_sum, np.array([[3.0, 2.0], [1.0, 0.0]]))"
   ]
  },
  {
   "cell_type": "markdown",
   "metadata": {},
   "source": [
    "Теперь реализуем функцию softmax, которая получает на вход оценки для каждого класса и преобразует их в вероятности от 0 до 1:\n",
    "![image](https://wikimedia.org/api/rest_v1/media/math/render/svg/e348290cf48ddbb6e9a6ef4e39363568b67c09d3)\n",
    "\n",
    "**Важно:** Практический аспект вычисления этой функции заключается в том, что в ней учавствует вычисление экспоненты от потенциально очень больших чисел - это может привести к очень большим значениям в числителе и знаменателе за пределами диапазона float.\n",
    "\n",
    "К счастью, у этой проблемы есть простое решение -- перед вычислением softmax вычесть из всех оценок максимальное значение среди всех оценок:\n",
    "```\n",
    "predictions -= np.max(predictions)\n",
    "```\n",
    "(подробнее здесь - http://cs231n.github.io/linear-classify/#softmax, секция `Practical issues: Numeric stability`)"
   ]
  },
  {
   "cell_type": "code",
   "execution_count": 5,
   "metadata": {},
   "outputs": [],
   "source": [
    "# TODO Implement softmax and cross-entropy for single sample\n",
    "probs = linear_classifer.softmax(np.array([-10, 0, 10]))\n",
    "\n",
    "# Make sure it works for big numbers too!\n",
    "probs = linear_classifer.softmax(np.array([1000, 0, 0]))\n",
    "assert np.isclose(probs[0], 1.0)"
   ]
  },
  {
   "cell_type": "markdown",
   "metadata": {},
   "source": [
    "Кроме этого, мы реализуем cross-entropy loss, которую мы будем использовать как функцию ошибки (error function).\n",
    "В общем виде cross-entropy определена следующим образом:\n",
    "![image](https://wikimedia.org/api/rest_v1/media/math/render/svg/0cb6da032ab424eefdca0884cd4113fe578f4293)\n",
    "\n",
    "где x - все классы, p(x) - истинная вероятность принадлежности сэмпла классу x, а q(x) - вероятность принадлежности классу x, предсказанная моделью.  \n",
    "В нашем случае сэмпл принадлежит только одному классу, индекс которого передается функции. Для него p(x) равна 1, а для остальных классов - 0. \n",
    "\n",
    "Это позволяет реализовать функцию проще!"
   ]
  },
  {
   "cell_type": "code",
   "execution_count": 6,
   "metadata": {},
   "outputs": [
    {
     "data": {
      "text/plain": [
       "5.006760443547122"
      ]
     },
     "execution_count": 6,
     "metadata": {},
     "output_type": "execute_result"
    }
   ],
   "source": [
    "probs = linear_classifer.softmax(np.array([-5, 0, 5]))\n",
    "linear_classifer.cross_entropy_loss(probs, 1)"
   ]
  },
  {
   "cell_type": "markdown",
   "metadata": {},
   "source": [
    "После того как мы реализовали сами функции, мы можем реализовать градиент.\n",
    "\n",
    "Оказывается, что вычисление градиента становится гораздо проще, если объединить эти функции в одну, которая сначала вычисляет вероятности через softmax, а потом использует их для вычисления функции ошибки через cross-entropy loss.\n",
    "\n",
    "Эта функция `softmax_with_cross_entropy` будет возвращает и значение ошибки, и градиент по входным параметрам. Мы проверим корректность реализации с помощью `check_gradient`."
   ]
  },
  {
   "cell_type": "code",
   "execution_count": 7,
   "metadata": {},
   "outputs": [
    {
     "name": "stdout",
     "output_type": "stream",
     "text": [
      "Gradient check passed!\n"
     ]
    },
    {
     "data": {
      "text/plain": [
       "True"
      ]
     },
     "execution_count": 7,
     "metadata": {},
     "output_type": "execute_result"
    }
   ],
   "source": [
    "# TODO Implement combined function or softmax and cross entropy and produces gradient\n",
    "loss, grad = linear_classifer.softmax_with_cross_entropy(np.array([1, 0, 0]), 1)\n",
    "check_gradient(lambda x: linear_classifer.softmax_with_cross_entropy(x, 1), np.array([1, 0, 0], np.float))"
   ]
  },
  {
   "cell_type": "markdown",
   "metadata": {},
   "source": [
    "В качестве метода тренировки мы будем использовать стохастический градиентный спуск (stochastic gradient descent или SGD), который работает с батчами сэмплов. \n",
    "\n",
    "Поэтому все наши фукнции будут получать не один пример, а батч, то есть входом будет не вектор из `num_classes` оценок, а матрица размерности `batch_size, num_classes`. Индекс примера в батче всегда будет первым измерением.\n",
    "\n",
    "Следующий шаг - переписать наши функции так, чтобы они поддерживали батчи.\n",
    "\n",
    "Финальное значение функции ошибки должно остаться числом, и оно равно среднему значению ошибки среди всех примеров в батче."
   ]
  },
  {
   "cell_type": "code",
   "execution_count": 8,
   "metadata": {
    "scrolled": true
   },
   "outputs": [
    {
     "name": "stdout",
     "output_type": "stream",
     "text": [
      "Gradient check passed!\n",
      "Gradient check passed!\n"
     ]
    },
    {
     "data": {
      "text/plain": [
       "True"
      ]
     },
     "execution_count": 8,
     "metadata": {},
     "output_type": "execute_result"
    }
   ],
   "source": [
    "# TODO Extend combined function so it can receive a 2d array with batch of samples\n",
    "\n",
    "# Test batch_size = 1\n",
    "batch_size = 1\n",
    "predictions = np.zeros((batch_size, 3))\n",
    "target_index = np.ones(batch_size, np.int)\n",
    "check_gradient(lambda x: linear_classifer.softmax_with_cross_entropy(x, target_index), predictions)\n",
    "\n",
    "# Test batch_size = 3\n",
    "batch_size = 3\n",
    "predictions = np.zeros((batch_size, 3))\n",
    "target_index = np.ones(batch_size, np.int)\n",
    "check_gradient(lambda x: linear_classifer.softmax_with_cross_entropy(x, target_index), predictions)"
   ]
  },
  {
   "cell_type": "markdown",
   "metadata": {},
   "source": [
    "### Наконец, реализуем сам линейный классификатор!\n",
    "\n",
    "softmax и cross-entropy получают на вход оценки, которые выдает линейный классификатор.\n",
    "\n",
    "Он делает это очень просто: для каждого класса есть набор весов, на которые надо умножить пиксели картинки и сложить. Получившееся число и является оценкой класса, идущей на вход softmax.\n",
    "\n",
    "Таким образом, линейный классификатор можно представить как умножение вектора с пикселями на матрицу W размера `num_features, num_classes`. Такой подход легко расширяется на случай батча векторов с пикселями X размера `batch_size, num_features`:\n",
    "\n",
    "`predictions = X * W`, где `*` - матричное умножение.\n",
    "\n",
    "Реализуйте функцию подсчета линейного классификатора и градиентов по весам `linear_softmax` в файле `linear_classifer.py`"
   ]
  },
  {
   "cell_type": "code",
   "execution_count": 9,
   "metadata": {},
   "outputs": [
    {
     "name": "stdout",
     "output_type": "stream",
     "text": [
      "Gradient check passed!\n"
     ]
    },
    {
     "data": {
      "text/plain": [
       "True"
      ]
     },
     "execution_count": 9,
     "metadata": {},
     "output_type": "execute_result"
    }
   ],
   "source": [
    "# TODO Implement linear_softmax function that uses softmax with cross-entropy for linear classifier\n",
    "batch_size = 2\n",
    "num_classes = 2\n",
    "num_features = 3\n",
    "np.random.seed(42)\n",
    "W = np.random.randint(-1, 3, size=(num_features, num_classes)).astype(np.float)\n",
    "X = np.random.randint(-1, 3, size=(batch_size, num_features)).astype(np.float)\n",
    "target_index = np.ones(batch_size, dtype=np.int)\n",
    "\n",
    "loss, dW = linear_classifer.linear_softmax(X, W, target_index)\n",
    "check_gradient(lambda w: linear_classifer.linear_softmax(X, w, target_index), W)"
   ]
  },
  {
   "cell_type": "markdown",
   "metadata": {},
   "source": [
    "### И теперь регуляризация\n",
    "\n",
    "Мы будем использовать L2 regularization для весов как часть общей функции ошибки.\n",
    "\n",
    "Напомним, L2 regularization определяется как\n",
    "\n",
    "l2_reg_loss = regularization_strength * sum<sub>ij</sub> W[i, j]<sup>2</sup>\n",
    "\n",
    "Реализуйте функцию для его вычисления и вычисления соотвествующих градиентов."
   ]
  },
  {
   "cell_type": "code",
   "execution_count": 10,
   "metadata": {},
   "outputs": [
    {
     "name": "stdout",
     "output_type": "stream",
     "text": [
      "Gradient check passed!\n"
     ]
    },
    {
     "data": {
      "text/plain": [
       "True"
      ]
     },
     "execution_count": 10,
     "metadata": {},
     "output_type": "execute_result"
    }
   ],
   "source": [
    "# TODO Implement l2_regularization function that implements loss for L2 regularization\n",
    "linear_classifer.l2_regularization(W, 0.01)\n",
    "check_gradient(lambda w: linear_classifer.l2_regularization(w, 0.01), W)"
   ]
  },
  {
   "cell_type": "markdown",
   "metadata": {},
   "source": [
    "# Тренировка!"
   ]
  },
  {
   "cell_type": "markdown",
   "metadata": {},
   "source": [
    "Градиенты в порядке, реализуем процесс тренировки!"
   ]
  },
  {
   "cell_type": "code",
   "execution_count": 11,
   "metadata": {
    "scrolled": false
   },
   "outputs": [
    {
     "name": "stdout",
     "output_type": "stream",
     "text": [
      "Epoch 0, loss: 2.397558\n",
      "Epoch 1, loss: 2.329930\n",
      "Epoch 2, loss: 2.311104\n",
      "Epoch 3, loss: 2.304434\n",
      "Epoch 4, loss: 2.302996\n",
      "Epoch 5, loss: 2.302939\n",
      "Epoch 6, loss: 2.301085\n",
      "Epoch 7, loss: 2.302162\n",
      "Epoch 8, loss: 2.302554\n",
      "Epoch 9, loss: 2.302178\n"
     ]
    }
   ],
   "source": [
    "# TODO: Implement LinearSoftmaxClassifier.fit function\n",
    "classifier = linear_classifer.LinearSoftmaxClassifier()\n",
    "loss_history = classifier.fit(train_X, train_y, epochs=10, learning_rate=1e-3, batch_size=300, reg=1e1)"
   ]
  },
  {
   "cell_type": "code",
   "execution_count": 15,
   "metadata": {},
   "outputs": [
    {
     "data": {
      "text/plain": [
       "[<matplotlib.lines.Line2D at 0x18e9055c080>]"
      ]
     },
     "execution_count": 15,
     "metadata": {},
     "output_type": "execute_result"
    },
    {
     "data": {
      "image/png": "[encoded data removed]",
      "text/plain": [
       "<Figure size 432x288 with 1 Axes>"
      ]
     },
     "metadata": {
      "needs_background": "light"
     },
     "output_type": "display_data"
    }
   ],
   "source": [
    "# let's look at the loss history!\n",
    "plt.plot(loss_history)"
   ]
  },
  {
   "cell_type": "code",
   "execution_count": 16,
   "metadata": {},
   "outputs": [
    {
     "name": "stdout",
     "output_type": "stream",
     "text": [
      "[1 8 3 6 0 5 3 4 2 0 7 0 9 2 1 3 8 1 8 7 5 7 1 1 0 5 1 1 6 3 3 4 2 1 3 6 8\n",
      " 0 1 8 3 4 0 4 6 1 2 0 7 2 0 3 9 8 2 6 1 8 2 8 0 1 7 4 4 4 5 8 6 7 0 4 1 4\n",
      " 3 3 7 6 5 4 7 1 2 8 3 2 4 2 2 1 9 4 3 9 6 4 4 6 3 8 6 1 2 5 6 0 8 6 4 3 6\n",
      " 1 0 4 5 8 7 6 3 5 1 1 1 7 1 7 1 2 0 5 3 1 1 2 0 2 8 5 2 9 0 9 2 1 8 9 6 1\n",
      " 6 2 3 0 3 9 4 0 8 5 2 2 9 7 9 0 5 1 0 5 8 1 1 6 2 5 1 0 3 2 7 2 6 2 5 0 5\n",
      " 0 2 0 7 3 4 3 2 1 1 1 1 4 3 5 0 0 0 7 2 2 6 5 1 3 2 1 1 0 7 1 2 5 5 8 0 4\n",
      " 2 1 3 9 3 0 4 1 8 5 3 1 1 2 5 5 4 8 6 4 2 6 8 1 0 0 0 2 1 5 7 1 6 0 0 2 2\n",
      " 6 6 5 6 8 1 4 0 7 3 3 1 0 6 4 1 7 3 2 7 5 3 7 6 5 0 3 3 3 1 6 4 7 2 7 5 0\n",
      " 1 3 1 2 1 0 3 5 4 2 7 9 2 9 9 6 2 1 5 1 1 2 5 5 1 1 8 1 6 0 4 1 4 3 3 3 5\n",
      " 8 1 0 3 7 0 6 7 7 1 4 8 1 3 8 3 1 9 3 3 2 9 6 9 3 4 5 6 8 9 8 2 4 7 4 3 9\n",
      " 1 3 9 1 9 2 4 1 1 9 9 7 1 2 4 6 4 1 4 1 1 1 3 6 2 7 4 9 1 6 3 8 2 1 8 8 3\n",
      " 8 5 6 3 0 5 2 8 9 0 7 2 1 2 7 2 6 0 8 4 3 5 0 2 9 4 7 1 4 8 1 3 9 2 5 7 4\n",
      " 1 3 8 4 6 1 8 5 3 7 2 1 1 3 0 8 3 1 2 3 3 8 1 2 3 6 6 0 9 3 8 4 2 1 1 4 1\n",
      " 1 3 5 6 7 7 0 1 9 4 2 3 7 6 1 5 8 2 1 3 7 1 3 8 0 3 9 3 8 4 1 1 7 3 4 5 0\n",
      " 3 9 4 4 5 5 6 6 0 2 1 0 2 8 4 4 1 7 1 4 4 4 5 6 9 2 8 1 2 1 5 7 3 0 3 5 2\n",
      " 3 1 5 2 4 3 3 1 7 1 4 1 9 1 2 6 3 6 5 5 9 9 8 5 3 6 2 2 4 0 4 4 0 4 6 2 7\n",
      " 4 2 5 0 1 1 7 9 7 1 6 4 8 2 1 5 1 9 9 0 8 1 2 5 7 2 1 5 1 8 5 5 6 5 2 8 6\n",
      " 2 0 1 3 0 6 1 2 1 4 6 6 5 4 2 5 9 8 5 9 8 1 2 1 3 6 0 0 4 5 0 5 7 4 2 1 1\n",
      " 6 7 3 6 4 7 2 2 6 8 2 1 0 1 5 6 0 7 4 1 0 6 7 3 2 3 2 4 9 5 8 1 6 1 1 6 4\n",
      " 1 1 6 2 2 2 7 1 5 2 1 1 6 5 1 2 3 9 2 5 1 4 1 5 7 5 5 9 7 6 7 5 9 7 6 7 0\n",
      " 6 2 1 0 8 0 9 3 1 5 5 4 5 3 5 1 2 3 5 2 3 5 3 1 1 5 9 3 9 0 3 6 4 9 0 1 6\n",
      " 5 5 3 0 3 2 4 1 8 1 3 5 1 3 2 2 1 5 5 0 1 9 9 6 7 9 7 2 3 8 1 2 1 6 1 1 9\n",
      " 3 1 5 5 2 1 0 1 3 2 1 8 5 3 6 9 4 5 6 3 8 8 8 1 7 1 6 1 3 3 9 3 2 1 9 1 8\n",
      " 6 2 3 6 7 6 7 2 0 4 3 1 4 8 4 2 2 1 2 9 5 4 3 1 9 0 6 4 5 1 2 3 5 9 1 8 7\n",
      " 2 0 1 1 1 3 4 0 6 1 1 4 6 3 2 2 2 2 0 6 2 5 1 5 6 2 4 3 6 7 3 0 7 4 5 6 1\n",
      " 8 5 9 1 5 2 4 7 1 2 1 8 5 3 5 7 5 9 5 2 5 2 2 2 6 0 1 1 5 1 2 7 2 8 8 5 8\n",
      " 9 2 3 3 3 5 4 1 9 2 1 9 2 0 3 1 1 5 5 3 6 4 4 4 1 2 4 5 1 9 6 6 5 1 6 0 1\n",
      " 6]\n"
     ]
    }
   ],
   "source": [
    "print(val_y)"
   ]
  },
  {
   "cell_type": "code",
   "execution_count": 14,
   "metadata": {},
   "outputs": [
    {
     "name": "stdout",
     "output_type": "stream",
     "text": [
      "154\n",
      "Accuracy:  0.154\n",
      "Epoch 0, loss: 2.302284\n",
      "Epoch 1, loss: 2.302310\n",
      "Epoch 2, loss: 2.302397\n",
      "Epoch 3, loss: 2.302407\n",
      "Epoch 4, loss: 2.302238\n",
      "Epoch 5, loss: 2.301784\n",
      "Epoch 6, loss: 2.302092\n",
      "Epoch 7, loss: 2.301943\n",
      "Epoch 8, loss: 2.302142\n",
      "Epoch 9, loss: 2.302365\n",
      "Epoch 10, loss: 2.302532\n",
      "Epoch 11, loss: 2.302027\n",
      "Epoch 12, loss: 2.301614\n",
      "Epoch 13, loss: 2.301881\n",
      "Epoch 14, loss: 2.302287\n",
      "Epoch 15, loss: 2.301500\n",
      "Epoch 16, loss: 2.301776\n",
      "Epoch 17, loss: 2.302169\n",
      "Epoch 18, loss: 2.301803\n",
      "Epoch 19, loss: 2.302039\n",
      "Epoch 20, loss: 2.301963\n",
      "Epoch 21, loss: 2.302340\n",
      "Epoch 22, loss: 2.301593\n",
      "Epoch 23, loss: 2.303153\n",
      "Epoch 24, loss: 2.302978\n",
      "Epoch 25, loss: 2.301826\n",
      "Epoch 26, loss: 2.302361\n",
      "Epoch 27, loss: 2.302402\n",
      "Epoch 28, loss: 2.301787\n",
      "Epoch 29, loss: 2.301262\n",
      "Epoch 30, loss: 2.301936\n",
      "Epoch 31, loss: 2.302283\n",
      "Epoch 32, loss: 2.302447\n",
      "Epoch 33, loss: 2.301771\n",
      "Epoch 34, loss: 2.303492\n",
      "Epoch 35, loss: 2.302952\n",
      "Epoch 36, loss: 2.301792\n",
      "Epoch 37, loss: 2.302213\n",
      "Epoch 38, loss: 2.301647\n",
      "Epoch 39, loss: 2.302557\n",
      "Epoch 40, loss: 2.301453\n",
      "Epoch 41, loss: 2.302391\n",
      "Epoch 42, loss: 2.302393\n",
      "Epoch 43, loss: 2.302561\n",
      "Epoch 44, loss: 2.302295\n",
      "Epoch 45, loss: 2.301758\n",
      "Epoch 46, loss: 2.302287\n",
      "Epoch 47, loss: 2.302591\n",
      "Epoch 48, loss: 2.302772\n",
      "Epoch 49, loss: 2.302054\n",
      "Epoch 50, loss: 2.302097\n",
      "Epoch 51, loss: 2.301864\n",
      "Epoch 52, loss: 2.302536\n",
      "Epoch 53, loss: 2.302664\n",
      "Epoch 54, loss: 2.301810\n",
      "Epoch 55, loss: 2.301845\n",
      "Epoch 56, loss: 2.301875\n",
      "Epoch 57, loss: 2.301636\n",
      "Epoch 58, loss: 2.301671\n",
      "Epoch 59, loss: 2.302260\n",
      "Epoch 60, loss: 2.301251\n",
      "Epoch 61, loss: 2.302529\n",
      "Epoch 62, loss: 2.302467\n",
      "Epoch 63, loss: 2.302620\n",
      "Epoch 64, loss: 2.302330\n",
      "Epoch 65, loss: 2.302069\n",
      "Epoch 66, loss: 2.301386\n",
      "Epoch 67, loss: 2.303189\n",
      "Epoch 68, loss: 2.302000\n",
      "Epoch 69, loss: 2.302246\n",
      "Epoch 70, loss: 2.302269\n",
      "Epoch 71, loss: 2.302109\n",
      "Epoch 72, loss: 2.302009\n",
      "Epoch 73, loss: 2.302349\n",
      "Epoch 74, loss: 2.302105\n",
      "Epoch 75, loss: 2.301232\n",
      "Epoch 76, loss: 2.302358\n",
      "Epoch 77, loss: 2.302305\n",
      "Epoch 78, loss: 2.302607\n",
      "Epoch 79, loss: 2.302095\n",
      "Epoch 80, loss: 2.302058\n",
      "Epoch 81, loss: 2.302185\n",
      "Epoch 82, loss: 2.301922\n",
      "Epoch 83, loss: 2.301462\n",
      "Epoch 84, loss: 2.301170\n",
      "Epoch 85, loss: 2.302345\n",
      "Epoch 86, loss: 2.301745\n",
      "Epoch 87, loss: 2.301929\n",
      "Epoch 88, loss: 2.302352\n",
      "Epoch 89, loss: 2.302000\n",
      "Epoch 90, loss: 2.301625\n",
      "Epoch 91, loss: 2.302283\n",
      "Epoch 92, loss: 2.301915\n",
      "Epoch 93, loss: 2.301753\n",
      "Epoch 94, loss: 2.302163\n",
      "Epoch 95, loss: 2.302333\n",
      "Epoch 96, loss: 2.302411\n",
      "Epoch 97, loss: 2.302093\n",
      "Epoch 98, loss: 2.301837\n",
      "Epoch 99, loss: 2.301643\n",
      "150\n",
      "Accuracy after training for 100 epochs:  0.15\n"
     ]
    }
   ],
   "source": [
    "# Let's check how it performs on validation set\n",
    "pred = classifier.predict(val_X)\n",
    "accuracy = multiclass_accuracy(pred, val_y)\n",
    "print(\"Accuracy: \", accuracy)\n",
    "\n",
    "# Now, let's train more and see if it performs better\n",
    "classifier.fit(train_X, train_y, epochs=100, learning_rate=1e-3, batch_size=300, reg=1e1)\n",
    "pred = classifier.predict(val_X)\n",
    "accuracy = multiclass_accuracy(pred, val_y)\n",
    "print(\"Accuracy after training for 100 epochs: \", accuracy)"
   ]
  },
  {
   "cell_type": "markdown",
   "metadata": {},
   "source": [
    "### Как и раньше, используем кросс-валидацию для подбора гиперпараметтов.\n",
    "\n",
    "В этот раз, чтобы тренировка занимала разумное время, мы будем использовать только одно разделение на тренировочные (training) и проверочные (validation) данные.\n",
    "\n",
    "Теперь нам нужно подобрать не один, а два гиперпараметра! Не ограничивайте себя изначальными значениями в коде.  \n",
    "Добейтесь точности более чем **20%** на проверочных данных (validation data)."
   ]
  },
  {
   "cell_type": "code",
   "execution_count": 18,
   "metadata": {},
   "outputs": [
    {
     "name": "stdout",
     "output_type": "stream",
     "text": [
      "Epoch 0, loss: 2.301526\n",
      "Epoch 1, loss: 2.299752\n",
      "Epoch 2, loss: 2.301141\n",
      "Epoch 3, loss: 2.298139\n",
      "Epoch 4, loss: 2.298725\n",
      "Epoch 5, loss: 2.299339\n",
      "Epoch 6, loss: 2.298576\n",
      "Epoch 7, loss: 2.295640\n",
      "Epoch 8, loss: 2.294587\n",
      "Epoch 9, loss: 2.293017\n",
      "262\n",
      "Epoch 0, loss: 2.295047\n",
      "Epoch 1, loss: 2.295518\n",
      "Epoch 2, loss: 2.293091\n",
      "Epoch 3, loss: 2.290113\n",
      "Epoch 4, loss: 2.293464\n",
      "Epoch 5, loss: 2.291003\n",
      "Epoch 6, loss: 2.293900\n",
      "Epoch 7, loss: 2.292383\n",
      "Epoch 8, loss: 2.286220\n",
      "Epoch 9, loss: 2.287370\n",
      "318\n",
      "Epoch 0, loss: 2.288251\n",
      "Epoch 1, loss: 2.289602\n",
      "Epoch 2, loss: 2.289665\n",
      "Epoch 3, loss: 2.289516\n",
      "Epoch 4, loss: 2.286326\n",
      "Epoch 5, loss: 2.289279\n",
      "Epoch 6, loss: 2.289290\n",
      "Epoch 7, loss: 2.281516\n",
      "Epoch 8, loss: 2.286980\n",
      "Epoch 9, loss: 2.284358\n",
      "371\n",
      "Epoch 0, loss: 2.283989\n",
      "Epoch 1, loss: 2.284330\n",
      "Epoch 2, loss: 2.283736\n",
      "Epoch 3, loss: 2.284616\n",
      "Epoch 4, loss: 2.282810\n",
      "Epoch 5, loss: 2.278852\n",
      "Epoch 6, loss: 2.280032\n",
      "Epoch 7, loss: 2.282882\n",
      "Epoch 8, loss: 2.280394\n",
      "Epoch 9, loss: 2.284621\n",
      "401\n",
      "Epoch 0, loss: 2.278581\n",
      "Epoch 1, loss: 2.274671\n",
      "Epoch 2, loss: 2.273577\n",
      "Epoch 3, loss: 2.278595\n",
      "Epoch 4, loss: 2.273754\n",
      "Epoch 5, loss: 2.274298\n",
      "Epoch 6, loss: 2.276656\n",
      "Epoch 7, loss: 2.269704\n",
      "Epoch 8, loss: 2.271429\n",
      "Epoch 9, loss: 2.272542\n",
      "377\n"
     ]
    },
    {
     "ename": "TypeError",
     "evalue": "not enough arguments for format string",
     "output_type": "error",
     "traceback": [
      "\u001b[1;31m---------------------------------------------------------------------------\u001b[0m",
      "\u001b[1;31mTypeError\u001b[0m                                 Traceback (most recent call last)",
      "\u001b[1;32m<ipython-input-18-746f6843dc06>\u001b[0m in \u001b[0;36m<module>\u001b[1;34m\u001b[0m\n\u001b[0;32m     44\u001b[0m \u001b[1;33m\u001b[0m\u001b[0m\n\u001b[0;32m     45\u001b[0m         \u001b[0ml_r_to_accuracy\u001b[0m\u001b[1;33m[\u001b[0m\u001b[0mstr\u001b[0m\u001b[1;33m(\u001b[0m\u001b[0ml\u001b[0m\u001b[1;33m)\u001b[0m \u001b[1;33m+\u001b[0m \u001b[0mstr\u001b[0m\u001b[1;33m(\u001b[0m\u001b[0mr\u001b[0m\u001b[1;33m)\u001b[0m\u001b[1;33m]\u001b[0m \u001b[1;33m=\u001b[0m \u001b[0mnp\u001b[0m\u001b[1;33m.\u001b[0m\u001b[0maverage\u001b[0m\u001b[1;33m(\u001b[0m\u001b[0maccuracy_all\u001b[0m\u001b[1;33m)\u001b[0m\u001b[1;33m\u001b[0m\u001b[1;33m\u001b[0m\u001b[0m\n\u001b[1;32m---> 46\u001b[1;33m         \u001b[0mprint\u001b[0m\u001b[1;33m(\u001b[0m\u001b[1;34m\"Linear classifier with l = %s and r = %d\"\u001b[0m \u001b[1;33m%\u001b[0m \u001b[0ml\u001b[0m\u001b[1;33m,\u001b[0m \u001b[0mr\u001b[0m\u001b[1;33m)\u001b[0m\u001b[1;33m\u001b[0m\u001b[1;33m\u001b[0m\u001b[0m\n\u001b[0m\u001b[0;32m     47\u001b[0m         \u001b[0mprint\u001b[0m\u001b[1;33m(\u001b[0m\u001b[1;34m\"Accuracy: %4.2f\"\u001b[0m \u001b[1;33m%\u001b[0m \u001b[1;33m(\u001b[0m\u001b[0ml_r_to_accuracy\u001b[0m\u001b[1;33m[\u001b[0m\u001b[0mstr\u001b[0m\u001b[1;33m(\u001b[0m\u001b[0ml\u001b[0m\u001b[1;33m)\u001b[0m \u001b[1;33m+\u001b[0m \u001b[0mstr\u001b[0m\u001b[1;33m(\u001b[0m\u001b[0mr\u001b[0m\u001b[1;33m)\u001b[0m\u001b[1;33m]\u001b[0m\u001b[1;33m)\u001b[0m\u001b[1;33m)\u001b[0m\u001b[1;33m\u001b[0m\u001b[1;33m\u001b[0m\u001b[0m\n\u001b[0;32m     48\u001b[0m \u001b[1;33m\u001b[0m\u001b[0m\n",
      "\u001b[1;31mTypeError\u001b[0m: not enough arguments for format string"
     ]
    }
   ],
   "source": [
    "from sklearn.model_selection import KFold\n",
    "\n",
    "#num_epochs = 200\n",
    "num_epochs = 10\n",
    "batch_size = 300\n",
    "\n",
    "learning_rates = [1e-3, 1e-4, 1e-5]\n",
    "reg_strengths = [1e-4, 1e-5, 1e-6]\n",
    "\n",
    "best_classifier = None\n",
    "best_val_accuracy = None\n",
    "\n",
    "# TODO use validation set to find the best hyperparameters\n",
    "# hint: for best results, you might need to try more values for learning rate and regularization strength \n",
    "# than provided initially\n",
    "\n",
    "# Find the best k using cross-validation based on accuracy\n",
    "num_folds = 5\n",
    "train_folds_X = []\n",
    "test_folds_X = []\n",
    "l_r_to_accuracy = {}\n",
    "\n",
    "# TODO: split the training data in 5 folds and store them in train_folds_X/train_folds_y\n",
    "\n",
    "kfold = KFold(num_folds, True, 1)\n",
    "\n",
    "for train, test in kfold.split(train_X):\n",
    "    train_folds_X.append(train)\n",
    "    test_folds_X.append(test)  \n",
    "\n",
    "for l in learning_rates:\n",
    "    for r in reg_strengths:\n",
    "        # TODO: perform cross-validation\n",
    "        # Go through every fold and use it for testing and all other folds for validation\n",
    "        # Perform training and produce accuracy metric on the validation dataset\n",
    "        # Average accuracy from all the folds and write it into k_to_accuracy\n",
    "        accuracy_all = []\n",
    "        classifier = linear_classifer.LinearSoftmaxClassifier()\n",
    "        for i, train in enumerate(train_folds_X):\n",
    "            loss_history = classifier.fit(train_X[train], train_y[train], epochs=num_epochs, learning_rate=l, batch_size=batch_size, reg=r)\n",
    "            pred = classifier.predict(train_X[test_folds_X[i]])\n",
    "            accuracy = multiclass_accuracy(pred, train_y[test_folds_X[i]])\n",
    "            accuracy_all.append(accuracy)\n",
    "\n",
    "        l_r_to_accuracy[str(l) + str(r)] = np.average(accuracy_all)\n",
    "        print(\"Linear classifier with l = %s and r = %d\" % l, r)\n",
    "        print(\"Accuracy: %4.2f\" % (l_r_to_accuracy[str(l) + str(r)])) \n",
    "\n",
    "print('best validation accuracy achieved: %f' % best_val_accuracy)"
   ]
  },
  {
   "cell_type": "markdown",
   "metadata": {},
   "source": [
    "# Какой же точности мы добились на тестовых данных?"
   ]
  },
  {
   "cell_type": "code",
   "execution_count": null,
   "metadata": {},
   "outputs": [],
   "source": [
    "test_pred = best_classifier.predict(test_X)\n",
    "test_accuracy = multiclass_accuracy(test_pred, test_y)\n",
    "print('Linear softmax classifier test set accuracy: %f' % (test_accuracy, ))"
   ]
  }
 ],
 "metadata": {
  "kernelspec": {
   "display_name": "Python 3",
   "language": "python",
   "name": "python3"
  },
  "language_info": {
   "codemirror_mode": {
    "name": "ipython",
    "version": 3
   },
   "file_extension": ".py",
   "mimetype": "text/x-python",
   "name": "python",
   "nbconvert_exporter": "python",
   "pygments_lexer": "ipython3",
   "version": "3.7.1"
  }
 },
 "nbformat": 4,
 "nbformat_minor": 2
}
